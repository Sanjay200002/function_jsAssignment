{
  "nbformat": 4,
  "nbformat_minor": 0,
  "metadata": {
    "colab": {
      "provenance": []
    },
    "kernelspec": {
      "name": "python3",
      "display_name": "Python 3"
    },
    "language_info": {
      "name": "python"
    }
  },
  "cells": [
    {
      "cell_type": "code",
      "execution_count": null,
      "metadata": {
        "id": "lZ0MtVJIMS0U"
      },
      "outputs": [],
      "source": []
    },
    {
      "cell_type": "markdown",
      "source": [
        "Q1. Create an arrow function called square that takes a number as an argument and returns its square. Use\n",
        "the arrow function to calculate the square of a given number and display the result.\n"
      ],
      "metadata": {
        "id": "8uR13YRiNWqg"
      }
    },
    {
      "cell_type": "code",
      "source": [
        "const square =(number)=>number*number;\n",
        "const input=6;\n",
        "const result=square(input);\n",
        "console.log(`the square is\"${input} ${result}`);\n",
        "\n",
        "\n"
      ],
      "metadata": {
        "id": "QjoqX-nFNd0P"
      },
      "execution_count": null,
      "outputs": []
    },
    {
      "cell_type": "markdown",
      "source": [
        "Q2. Create a JavaScript function called generateGreeting that takes a name as an argument and returns a\n",
        "personalized greeting message. Use this function to greet three different people."
      ],
      "metadata": {
        "id": "WIKaMgwcNnhI"
      }
    },
    {
      "cell_type": "code",
      "source": [
        "function generateGreeting(name){\n",
        "    return `Hello ,${name} welcome to fullstack course`;\n",
        "    }\n",
        "    console.log(generateGreeting(\"Sanjay\"));\n",
        "    console.log(generateGreeting(\"Styam\"));\n",
        "    console.log(generateGreeting(\"Sahil\"));\n",
        "\n"
      ],
      "metadata": {
        "id": "ds9I8sz0NrY_"
      },
      "execution_count": null,
      "outputs": []
    },
    {
      "cell_type": "markdown",
      "source": [
        "Q3. Create an IIFE (Immediately Invoked Function Expression) that calculates the square of a number and\n",
        "immediately displays the result."
      ],
      "metadata": {
        "id": "chy6f56FNxjY"
      }
    },
    {
      "cell_type": "code",
      "source": [
        " (function (num){return result=num*num})(5);\n",
        " console.log(\"the square is \",result);"
      ],
      "metadata": {
        "id": "nTx4oaugN3bP"
      },
      "execution_count": null,
      "outputs": []
    },
    {
      "cell_type": "markdown",
      "source": [
        "Q4. Write a JavaScript function called calculateTax that takes an income as an argument and returns the\n",
        "amount of tax to be paid. Use a closure to handle different tax rates based on income ranges. Test the\n",
        "function with various incomes.\n",
        "\n",
        "\n"
      ],
      "metadata": {
        "id": "Tbr-ynszN-nn"
      }
    },
    {
      "cell_type": "code",
      "source": [
        "function calculateTax(income){\n",
        "        let tax=0;\n",
        "        if(income<=300000){\n",
        "            tax=0;\n",
        "        }\n",
        "        else if(income<=700000){\n",
        "            tax=(income-300000)*0.05;\n",
        "        }\n",
        "        else if(income<=1200000){\n",
        "            tax=(700000-300000)*0.05+(income-700000)*0.10;\n",
        "        }\n",
        "        else {\n",
        "            tax = (700000 - 300000) * 0.05 + (1200000 - 700000) * 0.10 +\n",
        "             (income - 1200000) * 0.15;\n",
        "        }\n",
        "\n",
        "        return tax;\n",
        "    }\n",
        "    console.log(calculateTax(300000));\n",
        "    console.log(calculateTax(500000));\n",
        "    console.log(calculateTax(1100000));\n",
        "    console.log(calculateTax(2200000));\n"
      ],
      "metadata": {
        "id": "UW7sjZ8UODMp"
      },
      "execution_count": null,
      "outputs": []
    },
    {
      "cell_type": "markdown",
      "source": [
        "Q5. Write a JavaScript function called factorial that calculates the factorial of a non-negative integer using\n",
        "recursion. Test the function with different inputs."
      ],
      "metadata": {
        "id": "fR3fozAfOIYQ"
      }
    },
    {
      "cell_type": "code",
      "source": [
        "function factorial(num){\n",
        "        if(num==1){\n",
        "            return 1;\n",
        "        }\n",
        "    return num*factorial(num-1);\n",
        "    }\n",
        "    for(let i=2;i<=10;i++){\n",
        "    console.log(factorial(i));\n",
        "\n",
        "    }\n",
        "\n"
      ],
      "metadata": {
        "id": "co0JswUCOOpP"
      },
      "execution_count": null,
      "outputs": []
    },
    {
      "cell_type": "markdown",
      "source": [
        "Q6. Write a JavaScript function called curry that takes a function as an argument and returns a curried\n",
        "version of that function. The curried function should accept arguments one at a time and return a new\n",
        "function until all arguments are provided. Then, it should execute the original function with all arguments.\n",
        "Test the curry function with a function that adds two numbers.\n",
        "\n"
      ],
      "metadata": {
        "id": "c7XQIWxYOUpX"
      }
    },
    {
      "cell_type": "code",
      "source": [
        "function curry(fn) {\n",
        "        const curried = (...args) =>\n",
        "          args.length >= fn.length\n",
        "            ? fn(...args)\n",
        "            : (...nextArgs) => curried(...args, ...nextArgs);\n",
        "        return curried;\n",
        "      }\n",
        "\n",
        "      function add(a, b) {\n",
        "        return a + b;\n",
        "      }\n",
        "\n",
        "      const curriedAdd = curry(add);\n",
        "      console.log(curriedAdd(5, 2));\n",
        "\n",
        "\n",
        "      (function (num){return result=num*num})(5); console.log(\"the square is \"\n",
        "      ,result);\n"
      ],
      "metadata": {
        "id": "uRc03TUDOYng"
      },
      "execution_count": null,
      "outputs": []
    }
  ]
}